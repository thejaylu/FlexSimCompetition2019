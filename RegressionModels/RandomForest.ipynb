{
 "cells": [
  {
   "cell_type": "code",
   "execution_count": 1,
   "metadata": {},
   "outputs": [
    {
     "data": {
      "text/html": [
       "<div>\n",
       "<style scoped>\n",
       "    .dataframe tbody tr th:only-of-type {\n",
       "        vertical-align: middle;\n",
       "    }\n",
       "\n",
       "    .dataframe tbody tr th {\n",
       "        vertical-align: top;\n",
       "    }\n",
       "\n",
       "    .dataframe thead th {\n",
       "        text-align: right;\n",
       "    }\n",
       "</style>\n",
       "<table border=\"1\" class=\"dataframe\">\n",
       "  <thead>\n",
       "    <tr style=\"text-align: right;\">\n",
       "      <th></th>\n",
       "      <th>Scenario</th>\n",
       "      <th>CirculatingNurse_Count</th>\n",
       "      <th>PreOpNurse_Count</th>\n",
       "      <th>MaintenanceGroup_Count</th>\n",
       "      <th>ScrubNurse_Count</th>\n",
       "      <th>PACUNurse_Count</th>\n",
       "      <th>Overtime</th>\n",
       "      <th>Earnings</th>\n",
       "      <th>Cases</th>\n",
       "      <th>bad?</th>\n",
       "    </tr>\n",
       "  </thead>\n",
       "  <tbody>\n",
       "    <tr>\n",
       "      <th>0</th>\n",
       "      <td>1</td>\n",
       "      <td>5</td>\n",
       "      <td>3</td>\n",
       "      <td>3</td>\n",
       "      <td>5</td>\n",
       "      <td>3</td>\n",
       "      <td>193.047177</td>\n",
       "      <td>67496.11290</td>\n",
       "      <td>24</td>\n",
       "      <td>NaN</td>\n",
       "    </tr>\n",
       "    <tr>\n",
       "      <th>1</th>\n",
       "      <td>2</td>\n",
       "      <td>4</td>\n",
       "      <td>3</td>\n",
       "      <td>3</td>\n",
       "      <td>5</td>\n",
       "      <td>3</td>\n",
       "      <td>193.047177</td>\n",
       "      <td>68696.11290</td>\n",
       "      <td>24</td>\n",
       "      <td>NaN</td>\n",
       "    </tr>\n",
       "    <tr>\n",
       "      <th>2</th>\n",
       "      <td>3</td>\n",
       "      <td>3</td>\n",
       "      <td>3</td>\n",
       "      <td>3</td>\n",
       "      <td>5</td>\n",
       "      <td>3</td>\n",
       "      <td>193.047177</td>\n",
       "      <td>69896.11290</td>\n",
       "      <td>24</td>\n",
       "      <td>NaN</td>\n",
       "    </tr>\n",
       "    <tr>\n",
       "      <th>3</th>\n",
       "      <td>4</td>\n",
       "      <td>2</td>\n",
       "      <td>3</td>\n",
       "      <td>3</td>\n",
       "      <td>5</td>\n",
       "      <td>3</td>\n",
       "      <td>205.788424</td>\n",
       "      <td>70586.46305</td>\n",
       "      <td>24</td>\n",
       "      <td>NaN</td>\n",
       "    </tr>\n",
       "    <tr>\n",
       "      <th>4</th>\n",
       "      <td>5</td>\n",
       "      <td>1</td>\n",
       "      <td>3</td>\n",
       "      <td>3</td>\n",
       "      <td>5</td>\n",
       "      <td>3</td>\n",
       "      <td>1860.000000</td>\n",
       "      <td>197.00000</td>\n",
       "      <td>23</td>\n",
       "      <td>y</td>\n",
       "    </tr>\n",
       "  </tbody>\n",
       "</table>\n",
       "</div>"
      ],
      "text/plain": [
       "   Scenario  CirculatingNurse_Count  PreOpNurse_Count  MaintenanceGroup_Count  \\\n",
       "0         1                       5                 3                       3   \n",
       "1         2                       4                 3                       3   \n",
       "2         3                       3                 3                       3   \n",
       "3         4                       2                 3                       3   \n",
       "4         5                       1                 3                       3   \n",
       "\n",
       "   ScrubNurse_Count  PACUNurse_Count     Overtime     Earnings  Cases bad?  \n",
       "0                 5                3   193.047177  67496.11290     24  NaN  \n",
       "1                 5                3   193.047177  68696.11290     24  NaN  \n",
       "2                 5                3   193.047177  69896.11290     24  NaN  \n",
       "3                 5                3   205.788424  70586.46305     24  NaN  \n",
       "4                 5                3  1860.000000    197.00000     23    y  "
      ]
     },
     "execution_count": 1,
     "metadata": {},
     "output_type": "execute_result"
    }
   ],
   "source": [
    "import pandas as pd\n",
    "import numpy as np\n",
    "from sklearn import preprocessing\n",
    "import matplotlib.pyplot as plt \n",
    "from sklearn.linear_model import LogisticRegression\n",
    "from sklearn.model_selection import train_test_split\n",
    "import seaborn as sns\n",
    "import statsmodels.api as sm\n",
    "import csv\n",
    "import numpy as np\n",
    "from sklearn.model_selection import train_test_split\n",
    "from sklearn.ensemble import RandomForestRegressor\n",
    "df = pd.read_csv('RegressionData_Master675.csv')\n",
    "df.head()"
   ]
  },
  {
   "cell_type": "code",
   "execution_count": 7,
   "metadata": {},
   "outputs": [
    {
     "data": {
      "text/plain": [
       "0.9984901910797417"
      ]
     },
     "execution_count": 7,
     "metadata": {},
     "output_type": "execute_result"
    }
   ],
   "source": [
    "x = df[['CirculatingNurse_Count', 'PreOpNurse_Count', 'MaintenanceGroup_Count', 'ScrubNurse_Count', 'PACUNurse_Count']]\n",
    "x = np.array(x)\n",
    "y = np.array(df['Earnings'])\n",
    "train_features, test_features, train_labels, test_labels = train_test_split(x, y, test_size=0.15, random_state=42)\n",
    "rf = RandomForestRegressor(n_estimators=100, random_state=42) #100 trees in the forest \n",
    "rf.fit(x,y)\n",
    "predictions = rf.predict(test_features)\n",
    "rf.score(train_features, train_labels)"
   ]
  },
  {
   "cell_type": "code",
   "execution_count": 3,
   "metadata": {},
   "outputs": [
    {
     "name": "stdout",
     "output_type": "stream",
     "text": [
      "[3 1 3 2 1] 77350.00198280002\n",
      "[2 2 3 2 1] 77507.82234609997\n",
      "[3 1 2 2 2] 77708.60256400007\n",
      "[2 1 3 2 2] 77802.2978876001\n",
      "[3 1 2 2 1] 78191.67260560003\n",
      "[2 2 2 2 1] 78206.17583849998\n",
      "[2 1 2 3 1] 78414.46329860008\n",
      "[2 1 2 2 2] 78465.80451800009\n",
      "[2 1 3 2 1] 79021.13972070008\n",
      "[2 1 2 2 1] 79705.0125109001\n"
     ]
    }
   ],
   "source": [
    "bigArray = []\n",
    "for a in (1,2,3,4,5):\n",
    "    for b in (1,2,3):\n",
    "        for c in (1,2,3):\n",
    "            for d in (1,2,3,4,5):\n",
    "                for e in (1,2,3):\n",
    "                    smallArray = [a,b,c,d,e]\n",
    "                    bigArray.append(smallArray)\n",
    "                    \n",
    "bigNP = np.array(bigArray)\n",
    "earnings = rf.predict(bigNP)\n",
    "indices = np.argsort(earnings) #sorts earnings from smallest to largest\n",
    "\n",
    "for i in indices[-10:]: #calls the last 10 (largest) earnings \n",
    "    print(bigNP[i], earnings[i]) #and their indices "
   ]
  },
  {
   "cell_type": "code",
   "execution_count": 50,
   "metadata": {},
   "outputs": [
    {
     "data": {
      "text/plain": [
       "array([[1, 1, 1, 1, 1],\n",
       "       [1, 1, 1, 1, 2],\n",
       "       [1, 1, 1, 1, 3],\n",
       "       ...,\n",
       "       [5, 3, 3, 5, 1],\n",
       "       [5, 3, 3, 5, 2],\n",
       "       [5, 3, 3, 5, 3]])"
      ]
     },
     "execution_count": 50,
     "metadata": {},
     "output_type": "execute_result"
    }
   ],
   "source": [
    "bigNP"
   ]
  },
  {
   "cell_type": "code",
   "execution_count": null,
   "metadata": {},
   "outputs": [],
   "source": []
  }
 ],
 "metadata": {
  "kernelspec": {
   "display_name": "Python 3",
   "language": "python",
   "name": "python3"
  },
  "language_info": {
   "codemirror_mode": {
    "name": "ipython",
    "version": 3
   },
   "file_extension": ".py",
   "mimetype": "text/x-python",
   "name": "python",
   "nbconvert_exporter": "python",
   "pygments_lexer": "ipython3",
   "version": "3.7.1"
  }
 },
 "nbformat": 4,
 "nbformat_minor": 2
}
